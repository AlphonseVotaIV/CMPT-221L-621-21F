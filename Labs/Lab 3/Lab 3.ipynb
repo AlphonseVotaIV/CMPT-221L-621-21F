{
 "cells": [
  {
   "cell_type": "markdown",
   "source": [
    "# Lab Three\n",
    "---\n",
    "\n",
    "Ok for this lab we're going to reiterate a lot of the things that we went over in class.\n",
    "\n",
    "Our Goals are:\n",
    "- Understanding Variable Types\n",
    "- Defining Variables\n",
    "- Using Conditionals\n",
    "- Using Loops\n",
    "- Creating Objects\n",
    "- Writing a function\n"
   ],
   "metadata": {}
  },
  {
   "cell_type": "markdown",
   "source": [
    "## What's the difference between Null and undefined?"
   ],
   "metadata": {}
  },
  {
   "cell_type": "markdown",
   "source": [
    "Null is equal to zero, and is intentionally placed as a value, while undefined is declared but not defined, and is equal to NaN(not a number)."
   ],
   "metadata": {}
  },
  {
   "cell_type": "markdown",
   "source": [
    "## List the 3 Variable Types and Use Them!"
   ],
   "metadata": {}
  },
  {
   "cell_type": "markdown",
   "source": [
    "The three variable types are Var, Let, and Const."
   ],
   "metadata": {}
  },
  {
   "cell_type": "code",
   "execution_count": null,
   "source": [
    "/* Var: */\r\n",
    "var name = \"doged\";\r\n",
    "console.log(name);"
   ],
   "outputs": [],
   "metadata": {}
  },
  {
   "cell_type": "code",
   "execution_count": null,
   "source": [
    "/* Let: */\r\n",
    "let name = \"doged\";\r\n",
    "console.log(name);"
   ],
   "outputs": [],
   "metadata": {}
  },
  {
   "cell_type": "code",
   "execution_count": null,
   "source": [
    "/* Const: */\r\n",
    "const nameconst = \"doged\";\r\n",
    "console.log(nameconst);"
   ],
   "outputs": [],
   "metadata": {}
  },
  {
   "cell_type": "markdown",
   "source": [
    "## Use an If/Else If/Else Statement and a Switch Case statement"
   ],
   "metadata": {}
  },
  {
   "cell_type": "code",
   "execution_count": null,
   "source": [
    "/* If/Elif/Else: */\r\n",
    "\r\n",
    "let let1 = false;\r\n",
    "let let2 = true;\r\n",
    "\r\n",
    "if (let1) {\r\n",
    "    console.log(\"first response\");\r\n",
    "} else if (let2) {\r\n",
    "    console.log(\"Second response\");\r\n",
    "} else {\r\n",
    "    console.log(\"final response\");\r\n",
    "}"
   ],
   "outputs": [],
   "metadata": {}
  },
  {
   "cell_type": "code",
   "execution_count": null,
   "source": [
    "/* Switch Case: */\r\n",
    "\r\n",
    "var group = \"group1\";\r\n",
    "switch (group) {\r\n",
    "    case \"group2\":\r\n",
    "        console.log(\"this is group2\");\r\n",
    "        break;\r\n",
    "    case \"group3\":\r\n",
    "        console.log(\"this is group3\");\r\n",
    "        break;\r\n",
    "    case \"group4\":\r\n",
    "        console.log(\"this is group4\");\r\n",
    "        break;\r\n",
    "\r\n",
    "    default:\r\n",
    "        console.log(\"default response\");\r\n",
    "        break;\r\n",
    "}"
   ],
   "outputs": [],
   "metadata": {}
  },
  {
   "cell_type": "markdown",
   "source": [
    "## Use a For and a While Loop"
   ],
   "metadata": {}
  },
  {
   "cell_type": "code",
   "execution_count": null,
   "source": [
    "/* For Loop: */\r\n",
    "for (var i=0; i<10; i++) {\r\n",
    "    console.log(i)\r\n",
    "}"
   ],
   "outputs": [],
   "metadata": {}
  },
  {
   "cell_type": "code",
   "execution_count": null,
   "source": [
    "/* While Loop: */\r\n",
    "var list = [1, 5, 10, 15, 20, 25];\r\n",
    "while (list.length != 0){\r\n",
    "    console.log(list.pop());\r\n",
    "}"
   ],
   "outputs": [],
   "metadata": {}
  },
  {
   "cell_type": "markdown",
   "source": [
    "## Make an object!"
   ],
   "metadata": {}
  },
  {
   "cell_type": "code",
   "execution_count": null,
   "source": [
    "/* Object: */\r\n",
    "let doged = {\r\n",
    "    firstName: \"Alphonse\",\r\n",
    "    lastName: \"Vota\",\r\n",
    "    alias: \"Doged, Xiallusse\"\r\n",
    "}"
   ],
   "outputs": [],
   "metadata": {}
  },
  {
   "cell_type": "code",
   "execution_count": null,
   "source": [
    "console.log(doged);"
   ],
   "outputs": [],
   "metadata": {}
  },
  {
   "cell_type": "markdown",
   "source": [
    "## Make a function, It can do anything!"
   ],
   "metadata": {}
  },
  {
   "cell_type": "code",
   "execution_count": null,
   "source": [
    "/*Function: */\r\n",
    "\r\n",
    "function helloWorld(thing) {\r\n",
    "    console.log(`hello ${thing}!`);\r\n",
    "}\r\n",
    "helloWorld(doged.alias)"
   ],
   "outputs": [],
   "metadata": {}
  },
  {
   "cell_type": "markdown",
   "source": [
    "## Optional: Checkout HackerRank and try a problem in Javascript"
   ],
   "metadata": {}
  }
 ],
 "metadata": {
  "orig_nbformat": 4,
  "language_info": {
   "name": "javascript",
   "version": "10.22.0",
   "mimetype": "application/javascript",
   "file_extension": ".js"
  },
  "kernelspec": {
   "name": "javascript",
   "display_name": "Javascript (Node.js)",
   "language": "javascript"
  }
 },
 "nbformat": 4,
 "nbformat_minor": 2
}